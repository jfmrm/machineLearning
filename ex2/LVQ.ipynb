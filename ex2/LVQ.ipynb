{
 "cells": [
  {
   "cell_type": "code",
   "execution_count": 1,
   "metadata": {},
   "outputs": [
    {
     "data": {
      "text/html": [
       "<div>\n",
       "<style scoped>\n",
       "    .dataframe tbody tr th:only-of-type {\n",
       "        vertical-align: middle;\n",
       "    }\n",
       "\n",
       "    .dataframe tbody tr th {\n",
       "        vertical-align: top;\n",
       "    }\n",
       "\n",
       "    .dataframe thead th {\n",
       "        text-align: right;\n",
       "    }\n",
       "</style>\n",
       "<table border=\"1\" class=\"dataframe\">\n",
       "  <thead>\n",
       "    <tr style=\"text-align: right;\">\n",
       "      <th></th>\n",
       "      <th>loc</th>\n",
       "      <th>v(g)</th>\n",
       "      <th>ev(g)</th>\n",
       "      <th>iv(g)</th>\n",
       "      <th>n</th>\n",
       "      <th>v</th>\n",
       "      <th>l</th>\n",
       "      <th>d</th>\n",
       "      <th>i</th>\n",
       "      <th>e</th>\n",
       "      <th>...</th>\n",
       "      <th>lOCode</th>\n",
       "      <th>lOComment</th>\n",
       "      <th>lOBlank</th>\n",
       "      <th>locCodeAndComment</th>\n",
       "      <th>uniq_Op</th>\n",
       "      <th>uniq_Opnd</th>\n",
       "      <th>total_Op</th>\n",
       "      <th>total_Opnd</th>\n",
       "      <th>branchCount</th>\n",
       "      <th>defects</th>\n",
       "    </tr>\n",
       "  </thead>\n",
       "  <tbody>\n",
       "    <tr>\n",
       "      <th>0</th>\n",
       "      <td>1.1</td>\n",
       "      <td>1.4</td>\n",
       "      <td>1.4</td>\n",
       "      <td>1.4</td>\n",
       "      <td>1.3</td>\n",
       "      <td>1.30</td>\n",
       "      <td>1.30</td>\n",
       "      <td>1.30</td>\n",
       "      <td>1.30</td>\n",
       "      <td>1.30</td>\n",
       "      <td>...</td>\n",
       "      <td>2.0</td>\n",
       "      <td>2.0</td>\n",
       "      <td>2.0</td>\n",
       "      <td>2.0</td>\n",
       "      <td>1.2</td>\n",
       "      <td>1.2</td>\n",
       "      <td>1.2</td>\n",
       "      <td>1.2</td>\n",
       "      <td>1.4</td>\n",
       "      <td>false</td>\n",
       "    </tr>\n",
       "    <tr>\n",
       "      <th>1</th>\n",
       "      <td>1.0</td>\n",
       "      <td>1.0</td>\n",
       "      <td>1.0</td>\n",
       "      <td>1.0</td>\n",
       "      <td>1.0</td>\n",
       "      <td>1.00</td>\n",
       "      <td>1.00</td>\n",
       "      <td>1.00</td>\n",
       "      <td>1.00</td>\n",
       "      <td>1.00</td>\n",
       "      <td>...</td>\n",
       "      <td>1.0</td>\n",
       "      <td>1.0</td>\n",
       "      <td>1.0</td>\n",
       "      <td>1.0</td>\n",
       "      <td>1.0</td>\n",
       "      <td>1.0</td>\n",
       "      <td>1.0</td>\n",
       "      <td>1.0</td>\n",
       "      <td>1.0</td>\n",
       "      <td>true</td>\n",
       "    </tr>\n",
       "    <tr>\n",
       "      <th>2</th>\n",
       "      <td>24.0</td>\n",
       "      <td>5.0</td>\n",
       "      <td>1.0</td>\n",
       "      <td>3.0</td>\n",
       "      <td>63.0</td>\n",
       "      <td>309.13</td>\n",
       "      <td>0.11</td>\n",
       "      <td>9.50</td>\n",
       "      <td>32.54</td>\n",
       "      <td>2936.77</td>\n",
       "      <td>...</td>\n",
       "      <td>1.0</td>\n",
       "      <td>0.0</td>\n",
       "      <td>6.0</td>\n",
       "      <td>0.0</td>\n",
       "      <td>15.0</td>\n",
       "      <td>15.0</td>\n",
       "      <td>44.0</td>\n",
       "      <td>19.0</td>\n",
       "      <td>9.0</td>\n",
       "      <td>false</td>\n",
       "    </tr>\n",
       "    <tr>\n",
       "      <th>3</th>\n",
       "      <td>20.0</td>\n",
       "      <td>4.0</td>\n",
       "      <td>4.0</td>\n",
       "      <td>2.0</td>\n",
       "      <td>47.0</td>\n",
       "      <td>215.49</td>\n",
       "      <td>0.06</td>\n",
       "      <td>16.00</td>\n",
       "      <td>13.47</td>\n",
       "      <td>3447.89</td>\n",
       "      <td>...</td>\n",
       "      <td>0.0</td>\n",
       "      <td>0.0</td>\n",
       "      <td>3.0</td>\n",
       "      <td>0.0</td>\n",
       "      <td>16.0</td>\n",
       "      <td>8.0</td>\n",
       "      <td>31.0</td>\n",
       "      <td>16.0</td>\n",
       "      <td>7.0</td>\n",
       "      <td>false</td>\n",
       "    </tr>\n",
       "    <tr>\n",
       "      <th>4</th>\n",
       "      <td>24.0</td>\n",
       "      <td>6.0</td>\n",
       "      <td>6.0</td>\n",
       "      <td>2.0</td>\n",
       "      <td>72.0</td>\n",
       "      <td>346.13</td>\n",
       "      <td>0.06</td>\n",
       "      <td>17.33</td>\n",
       "      <td>19.97</td>\n",
       "      <td>5999.58</td>\n",
       "      <td>...</td>\n",
       "      <td>0.0</td>\n",
       "      <td>0.0</td>\n",
       "      <td>3.0</td>\n",
       "      <td>0.0</td>\n",
       "      <td>16.0</td>\n",
       "      <td>12.0</td>\n",
       "      <td>46.0</td>\n",
       "      <td>26.0</td>\n",
       "      <td>11.0</td>\n",
       "      <td>false</td>\n",
       "    </tr>\n",
       "  </tbody>\n",
       "</table>\n",
       "<p>5 rows × 22 columns</p>\n",
       "</div>"
      ],
      "text/plain": [
       "    loc  v(g)  ev(g)  iv(g)     n       v     l      d      i        e  \\\n",
       "0   1.1   1.4    1.4    1.4   1.3    1.30  1.30   1.30   1.30     1.30   \n",
       "1   1.0   1.0    1.0    1.0   1.0    1.00  1.00   1.00   1.00     1.00   \n",
       "2  24.0   5.0    1.0    3.0  63.0  309.13  0.11   9.50  32.54  2936.77   \n",
       "3  20.0   4.0    4.0    2.0  47.0  215.49  0.06  16.00  13.47  3447.89   \n",
       "4  24.0   6.0    6.0    2.0  72.0  346.13  0.06  17.33  19.97  5999.58   \n",
       "\n",
       "    ...     lOCode  lOComment  lOBlank  locCodeAndComment  uniq_Op  uniq_Opnd  \\\n",
       "0   ...        2.0        2.0      2.0                2.0      1.2        1.2   \n",
       "1   ...        1.0        1.0      1.0                1.0      1.0        1.0   \n",
       "2   ...        1.0        0.0      6.0                0.0     15.0       15.0   \n",
       "3   ...        0.0        0.0      3.0                0.0     16.0        8.0   \n",
       "4   ...        0.0        0.0      3.0                0.0     16.0       12.0   \n",
       "\n",
       "   total_Op  total_Opnd  branchCount  defects  \n",
       "0       1.2         1.2          1.4    false  \n",
       "1       1.0         1.0          1.0     true  \n",
       "2      44.0        19.0          9.0    false  \n",
       "3      31.0        16.0          7.0    false  \n",
       "4      46.0        26.0         11.0    false  \n",
       "\n",
       "[5 rows x 22 columns]"
      ]
     },
     "execution_count": 1,
     "metadata": {},
     "output_type": "execute_result"
    }
   ],
   "source": [
    "from scipy.io import arff\n",
    "import pandas as pd\n",
    "\n",
    "data = arff.loadarff('cm1.arff')\n",
    "df = pd.DataFrame(data[0])\n",
    "\n",
    "df.defects = df.defects.apply(lambda x: x.decode('utf-8'))\n",
    "df.defects = df.defects.astype('category')\n",
    "\n",
    "df.head()"
   ]
  },
  {
   "cell_type": "code",
   "execution_count": 2,
   "metadata": {},
   "outputs": [],
   "source": [
    "from sklearn.neighbors import KNeighborsClassifier\n",
    "from sklearn.model_selection import cross_val_score\n",
    "\n",
    "def knnCrossValidation(data, labels, k):\n",
    "    knn = KNeighborsClassifier(n_neighbors=k)\n",
    "    return cross_val_score(knn, data, labels, cv=5)"
   ]
  },
  {
   "cell_type": "code",
   "execution_count": 3,
   "metadata": {},
   "outputs": [
    {
     "data": {
      "text/plain": [
       "0.885591836734694"
      ]
     },
     "execution_count": 3,
     "metadata": {},
     "output_type": "execute_result"
    }
   ],
   "source": [
    "#preparing data\n",
    "X = df.copy()\n",
    "X = X.drop(columns=['defects'])\n",
    "y = df['defects']\n",
    "\n",
    "knnCrossValidation(X, y, 2).mean()"
   ]
  },
  {
   "cell_type": "code",
   "execution_count": 4,
   "metadata": {},
   "outputs": [],
   "source": [
    "import math\n",
    "\n",
    "def euclideanDistance(i1, i2):\n",
    "    sum = 0\n",
    "    for i in range(len(i1) - 1):\n",
    "        sum += math.pow((i1[i] - i2[i]), 2)\n",
    "    return math.sqrt(sum)\n",
    "\n",
    "distances = []\n",
    "\n",
    "for i in df.drop(columns=['defects']).values:\n",
    "    d = []\n",
    "    for j in df.drop(columns=['defects']).values:\n",
    "        d.append(euclideanDistance(i, j))\n",
    "    distances.append(d)"
   ]
  },
  {
   "cell_type": "code",
   "execution_count": 5,
   "metadata": {},
   "outputs": [],
   "source": [
    "import random\n",
    "\n",
    "def midPoint(p1, p2):\n",
    "    mid = []\n",
    "    for i in range(len(p1)):\n",
    "        mid.append((p1[i] + p2[i])/2)\n",
    "    return mid\n",
    "    \n",
    "def selectRandomPrototypes(numPrototypes, trainBase):\n",
    "    prototypes = []\n",
    "    f = numPrototypes//2\n",
    "    t = numPrototypes - f\n",
    "    \n",
    "    i = numPrototypes\n",
    "    while i > 0:\n",
    "        r = random.randint(0, len(trainBase)-1)\n",
    "        p1 = trainBase.iloc[r]\n",
    "        found = False\n",
    "        p2 = None\n",
    "        while not found:\n",
    "            r = random.randint(0, len(trainBase)-1)\n",
    "            p2 = trainBase.iloc[r]\n",
    "            if p2.defects == p1.defects:\n",
    "                found = True\n",
    "        mid = midPoint(p1.values[:len(p1)-1], p2.values[:len(p2)-1])\n",
    "        mid.append(p1.defects)\n",
    "        if p1.defects == 'false' and f > 0:\n",
    "            prototypes.append(mid)\n",
    "            f -= 1\n",
    "            i -= 1\n",
    "        if p1.defects == 'true' and t > 0:\n",
    "            prototypes.append(mid)\n",
    "            t -= 1\n",
    "            i -= 1\n",
    "    return pd.DataFrame(prototypes)"
   ]
  },
  {
   "cell_type": "code",
   "execution_count": 6,
   "metadata": {},
   "outputs": [],
   "source": [
    "def alpha(t):\n",
    "    return math.exp(1-1/(t+1)**2)"
   ]
  },
  {
   "cell_type": "code",
   "execution_count": 7,
   "metadata": {},
   "outputs": [],
   "source": [
    "from sklearn.neighbors import NearestNeighbors\n",
    "def lvq1(trainBase, numPrototypes):\n",
    "    prot = selectRandomPrototypes(numPrototypes, trainBase)\n",
    "    prot.columns = trainBase.columns\n",
    "    for i in range(len(trainBase)):\n",
    "#         r = random.randint(0, len(trainBase)-1)\n",
    "        x = trainBase.iloc[i]\n",
    "        \n",
    "        oneNN = NearestNeighbors(n_neighbors=1)\n",
    "        oneNN.fit(prot.drop(columns=['defects']).values)\n",
    "    \n",
    "        distances, indices = oneNN.kneighbors(x.values[:len(x)-1].reshape(1, -1))\n",
    "        nearestProt = prot.iloc[indices[0][0]]\n",
    "        if nearestProt.defects != x.defects:\n",
    "            # get more distant\n",
    "            nearestProt = nearestProt.drop(labels=['defects']) + alpha(i) * (x.drop(labels=['defects']) - nearestProt.drop(labels=['defects']))\n",
    "        else:\n",
    "            # get closer\n",
    "            nearestProt = nearestProt.drop(labels=['defects']) - alpha(i) * (x.drop(labels=['defects']) - nearestProt.drop(labels=['defects']))\n",
    "        nearestProt['defects'] = prot.iloc[indices[0][0]].defects\n",
    "        prot.iloc[indices[0][0]] = nearestProt\n",
    "            \n",
    "    return prot"
   ]
  },
  {
   "cell_type": "code",
   "execution_count": 8,
   "metadata": {},
   "outputs": [],
   "source": [
    "def test(knnK, data, lvq):\n",
    "    numProts = [4, 5, 10, 15, 20, 50, 100, 150]\n",
    "    accuracy = []\n",
    "    for x in numProts:\n",
    "        prototypesDataset = lvq(data, x)\n",
    "        knn = KNeighborsClassifier(n_neighbors=knnK)\n",
    "        knn.fit(prototypesDataset.drop(columns=['defects']), prototypesDataset['defects'])\n",
    "        prediction = knn.predict(data.drop(columns=['defects']))\n",
    "        good = 0\n",
    "        bad = 0\n",
    "        for i in range(len(prediction)):\n",
    "            if prediction[i] == data.iloc[i].defects:\n",
    "                good += 1\n",
    "            else:\n",
    "                bad += 1\n",
    "\n",
    "        accuracy.append([x, good/len(df)])\n",
    "\n",
    "    accuracy = pd.DataFrame(accuracy)\n",
    "    return accuracy"
   ]
  },
  {
   "cell_type": "code",
   "execution_count": 20,
   "metadata": {},
   "outputs": [
    {
     "data": {
      "text/plain": [
       "<matplotlib.axes._subplots.AxesSubplot at 0x1a21eaaf98>"
      ]
     },
     "execution_count": 20,
     "metadata": {},
     "output_type": "execute_result"
    },
    {
     "data": {
      "image/png": "[encoded data removed]",
      "text/plain": [
       "<Figure size 432x288 with 1 Axes>"
      ]
     },
     "metadata": {},
     "output_type": "display_data"
    }
   ],
   "source": [
    "test(1, df, lvq1).plot.line(x=0, y=1)"
   ]
  },
  {
   "cell_type": "code",
   "execution_count": 21,
   "metadata": {},
   "outputs": [
    {
     "data": {
      "text/plain": [
       "<matplotlib.axes._subplots.AxesSubplot at 0x1a21f25320>"
      ]
     },
     "execution_count": 21,
     "metadata": {},
     "output_type": "execute_result"
    },
    {
     "data": {
      "image/png": "[encoded data removed]",
      "text/plain": [
       "<Figure size 432x288 with 1 Axes>"
      ]
     },
     "metadata": {},
     "output_type": "display_data"
    }
   ],
   "source": [
    "test(3, df, lvq1).plot.line(x=0, y=1)"
   ]
  },
  {
   "cell_type": "code",
   "execution_count": 14,
   "metadata": {},
   "outputs": [],
   "source": [
    "def inRange(i, j, x, s):\n",
    "    di = euclideanDistance(i, x)\n",
    "    dj = euclideanDistance(j, x)\n",
    "    \n",
    "    if min(di/dj, dj/di) > s:\n",
    "        return True\n",
    "    \n",
    "def lvq2(trainBase, numPrototypes):\n",
    "    prot = selectRandomPrototypes(numPrototypes, trainBase)\n",
    "    prot.columns = trainBase.columns\n",
    "    \n",
    "    for i in range(len(trainBase)):\n",
    "#         r = random.randint(0, len(trainBase)-1)\n",
    "        x = trainBase.iloc[i]\n",
    "        \n",
    "        oneNN = NearestNeighbors(n_neighbors=2)\n",
    "        oneNN.fit(prot.drop(columns=['defects']).values)\n",
    "    \n",
    "        distances, indices = oneNN.kneighbors(x.values[:len(x)-1].reshape(1, -1))\n",
    "        nearestProt = prot.iloc[indices[0][0]]\n",
    "        secNearestProt = prot.iloc[indices[0][1]]\n",
    "        s = (1 - 10)/(1 + 10)\n",
    "        if inRange(nearestProt, secNearestProt, x, s): \n",
    "            if nearestProt.defects != secNearestProt.defects:\n",
    "                if nearestProt.defects != x.defects:\n",
    "                    # get more distant\n",
    "                    nearestProt = nearestProt.drop(labels=['defects']) + alpha(i) * (x.drop(labels=['defects']) - nearestProt.drop(labels=['defects']))\n",
    "                    secNearestProt = secNearestProt.drop(labels=['defects']) - alpha(i) * (x.drop(labels=['defects']) - secNearestProt.drop(labels=['defects']))\n",
    "                else:\n",
    "                    # get closer\n",
    "                    nearestProt = nearestProt.drop(labels=['defects']) - alpha(i) * (x.drop(labels=['defects']) - nearestProt.drop(labels=['defects']))\n",
    "                    secNearestProt = secNearestProt.drop(labels=['defects']) + alpha(i) * (x.drop(labels=['defects']) - secNearestProt.drop(labels=['defects']))\n",
    "\n",
    "        nearestProt['defects'] = prot.iloc[indices[0][0]].defects\n",
    "        secNearestProt['defects'] = prot.iloc[indices[0][1]].defects\n",
    "        \n",
    "        prot.iloc[indices[0][0]] = nearestProt\n",
    "        prot.iloc[indices[0][1]] = secNearestProt\n",
    "            \n",
    "    return prot"
   ]
  },
  {
   "cell_type": "code",
   "execution_count": 11,
   "metadata": {},
   "outputs": [
    {
     "name": "stderr",
     "output_type": "stream",
     "text": [
      "/Users/joaofilipemoura/anaconda3/lib/python3.6/site-packages/ipykernel_launcher.py:34: SettingWithCopyWarning: \n",
      "A value is trying to be set on a copy of a slice from a DataFrame\n",
      "\n",
      "See the caveats in the documentation: http://pandas.pydata.org/pandas-docs/stable/indexing.html#indexing-view-versus-copy\n",
      "/Users/joaofilipemoura/anaconda3/lib/python3.6/site-packages/ipykernel_launcher.py:35: SettingWithCopyWarning: \n",
      "A value is trying to be set on a copy of a slice from a DataFrame\n",
      "\n",
      "See the caveats in the documentation: http://pandas.pydata.org/pandas-docs/stable/indexing.html#indexing-view-versus-copy\n"
     ]
    },
    {
     "data": {
      "text/plain": [
       "<matplotlib.axes._subplots.AxesSubplot at 0x1a212b6358>"
      ]
     },
     "execution_count": 11,
     "metadata": {},
     "output_type": "execute_result"
    },
    {
     "data": {
      "image/png": "[encoded data removed]",
      "text/plain": [
       "<Figure size 432x288 with 1 Axes>"
      ]
     },
     "metadata": {},
     "output_type": "display_data"
    }
   ],
   "source": [
    "test(3, df, lvq2).plot.line(x=0, y=1)"
   ]
  },
  {
   "cell_type": "code",
   "execution_count": 13,
   "metadata": {},
   "outputs": [
    {
     "name": "stderr",
     "output_type": "stream",
     "text": [
      "/Users/joaofilipemoura/anaconda3/lib/python3.6/site-packages/ipykernel_launcher.py:34: SettingWithCopyWarning: \n",
      "A value is trying to be set on a copy of a slice from a DataFrame\n",
      "\n",
      "See the caveats in the documentation: http://pandas.pydata.org/pandas-docs/stable/indexing.html#indexing-view-versus-copy\n",
      "/Users/joaofilipemoura/anaconda3/lib/python3.6/site-packages/ipykernel_launcher.py:35: SettingWithCopyWarning: \n",
      "A value is trying to be set on a copy of a slice from a DataFrame\n",
      "\n",
      "See the caveats in the documentation: http://pandas.pydata.org/pandas-docs/stable/indexing.html#indexing-view-versus-copy\n"
     ]
    },
    {
     "ename": "ZeroDivisionError",
     "evalue": "float division by zero",
     "output_type": "error",
     "traceback": [
      "\u001b[0;31m---------------------------------------------------------------------------\u001b[0m",
      "\u001b[0;31mZeroDivisionError\u001b[0m                         Traceback (most recent call last)",
      "\u001b[0;32m<ipython-input-13-8398419ed38b>\u001b[0m in \u001b[0;36m<module>\u001b[0;34m()\u001b[0m\n\u001b[0;32m----> 1\u001b[0;31m \u001b[0mtest\u001b[0m\u001b[0;34m(\u001b[0m\u001b[0;36m1\u001b[0m\u001b[0;34m,\u001b[0m \u001b[0mdf\u001b[0m\u001b[0;34m,\u001b[0m \u001b[0mlvq2\u001b[0m\u001b[0;34m)\u001b[0m\u001b[0;34m.\u001b[0m\u001b[0mplot\u001b[0m\u001b[0;34m.\u001b[0m\u001b[0mline\u001b[0m\u001b[0;34m(\u001b[0m\u001b[0mx\u001b[0m\u001b[0;34m=\u001b[0m\u001b[0;36m0\u001b[0m\u001b[0;34m,\u001b[0m \u001b[0my\u001b[0m\u001b[0;34m=\u001b[0m\u001b[0;36m1\u001b[0m\u001b[0;34m)\u001b[0m\u001b[0;34m\u001b[0m\u001b[0m\n\u001b[0m",
      "\u001b[0;32m<ipython-input-8-6de0358e4572>\u001b[0m in \u001b[0;36mtest\u001b[0;34m(knnK, data, lvq)\u001b[0m\n\u001b[1;32m      3\u001b[0m     \u001b[0maccuracy\u001b[0m \u001b[0;34m=\u001b[0m \u001b[0;34m[\u001b[0m\u001b[0;34m]\u001b[0m\u001b[0;34m\u001b[0m\u001b[0m\n\u001b[1;32m      4\u001b[0m     \u001b[0;32mfor\u001b[0m \u001b[0mx\u001b[0m \u001b[0;32min\u001b[0m \u001b[0mnumProts\u001b[0m\u001b[0;34m:\u001b[0m\u001b[0;34m\u001b[0m\u001b[0m\n\u001b[0;32m----> 5\u001b[0;31m         \u001b[0mprototypesDataset\u001b[0m \u001b[0;34m=\u001b[0m \u001b[0mlvq\u001b[0m\u001b[0;34m(\u001b[0m\u001b[0mdata\u001b[0m\u001b[0;34m,\u001b[0m \u001b[0mx\u001b[0m\u001b[0;34m)\u001b[0m\u001b[0;34m\u001b[0m\u001b[0m\n\u001b[0m\u001b[1;32m      6\u001b[0m         \u001b[0mknn\u001b[0m \u001b[0;34m=\u001b[0m \u001b[0mKNeighborsClassifier\u001b[0m\u001b[0;34m(\u001b[0m\u001b[0mn_neighbors\u001b[0m\u001b[0;34m=\u001b[0m\u001b[0mknnK\u001b[0m\u001b[0;34m)\u001b[0m\u001b[0;34m\u001b[0m\u001b[0m\n\u001b[1;32m      7\u001b[0m         \u001b[0mknn\u001b[0m\u001b[0;34m.\u001b[0m\u001b[0mfit\u001b[0m\u001b[0;34m(\u001b[0m\u001b[0mprototypesDataset\u001b[0m\u001b[0;34m.\u001b[0m\u001b[0mdrop\u001b[0m\u001b[0;34m(\u001b[0m\u001b[0mcolumns\u001b[0m\u001b[0;34m=\u001b[0m\u001b[0;34m[\u001b[0m\u001b[0;34m'defects'\u001b[0m\u001b[0;34m]\u001b[0m\u001b[0;34m)\u001b[0m\u001b[0;34m,\u001b[0m \u001b[0mprototypesDataset\u001b[0m\u001b[0;34m[\u001b[0m\u001b[0;34m'defects'\u001b[0m\u001b[0;34m]\u001b[0m\u001b[0;34m)\u001b[0m\u001b[0;34m\u001b[0m\u001b[0m\n",
      "\u001b[0;32m<ipython-input-10-e4ce88a509ac>\u001b[0m in \u001b[0;36mlvq2\u001b[0;34m(trainBase, numPrototypes)\u001b[0m\n\u001b[1;32m     21\u001b[0m         \u001b[0msecNearestProt\u001b[0m \u001b[0;34m=\u001b[0m \u001b[0mprot\u001b[0m\u001b[0;34m.\u001b[0m\u001b[0miloc\u001b[0m\u001b[0;34m[\u001b[0m\u001b[0mindices\u001b[0m\u001b[0;34m[\u001b[0m\u001b[0;36m0\u001b[0m\u001b[0;34m]\u001b[0m\u001b[0;34m[\u001b[0m\u001b[0;36m1\u001b[0m\u001b[0;34m]\u001b[0m\u001b[0;34m]\u001b[0m\u001b[0;34m\u001b[0m\u001b[0m\n\u001b[1;32m     22\u001b[0m         \u001b[0ms\u001b[0m \u001b[0;34m=\u001b[0m \u001b[0;34m(\u001b[0m\u001b[0;36m1\u001b[0m \u001b[0;34m-\u001b[0m \u001b[0;36m10\u001b[0m\u001b[0;34m)\u001b[0m\u001b[0;34m/\u001b[0m\u001b[0;34m(\u001b[0m\u001b[0;36m1\u001b[0m \u001b[0;34m+\u001b[0m \u001b[0;36m10\u001b[0m\u001b[0;34m)\u001b[0m\u001b[0;34m\u001b[0m\u001b[0m\n\u001b[0;32m---> 23\u001b[0;31m         \u001b[0;32mif\u001b[0m \u001b[0minRange\u001b[0m\u001b[0;34m(\u001b[0m\u001b[0mnearestProt\u001b[0m\u001b[0;34m,\u001b[0m \u001b[0msecNearestProt\u001b[0m\u001b[0;34m,\u001b[0m \u001b[0mx\u001b[0m\u001b[0;34m,\u001b[0m \u001b[0ms\u001b[0m\u001b[0;34m)\u001b[0m\u001b[0;34m:\u001b[0m\u001b[0;34m\u001b[0m\u001b[0m\n\u001b[0m\u001b[1;32m     24\u001b[0m             \u001b[0;32mif\u001b[0m \u001b[0mnearestProt\u001b[0m\u001b[0;34m.\u001b[0m\u001b[0mdefects\u001b[0m \u001b[0;34m!=\u001b[0m \u001b[0msecNearestProt\u001b[0m\u001b[0;34m.\u001b[0m\u001b[0mdefects\u001b[0m\u001b[0;34m:\u001b[0m\u001b[0;34m\u001b[0m\u001b[0m\n\u001b[1;32m     25\u001b[0m                 \u001b[0;32mif\u001b[0m \u001b[0mnearestProt\u001b[0m\u001b[0;34m.\u001b[0m\u001b[0mdefects\u001b[0m \u001b[0;34m!=\u001b[0m \u001b[0mx\u001b[0m\u001b[0;34m.\u001b[0m\u001b[0mdefects\u001b[0m\u001b[0;34m:\u001b[0m\u001b[0;34m\u001b[0m\u001b[0m\n",
      "\u001b[0;32m<ipython-input-10-e4ce88a509ac>\u001b[0m in \u001b[0;36minRange\u001b[0;34m(i, j, x, s)\u001b[0m\n\u001b[1;32m      3\u001b[0m     \u001b[0mdj\u001b[0m \u001b[0;34m=\u001b[0m \u001b[0meuclideanDistance\u001b[0m\u001b[0;34m(\u001b[0m\u001b[0mj\u001b[0m\u001b[0;34m,\u001b[0m \u001b[0mx\u001b[0m\u001b[0;34m)\u001b[0m\u001b[0;34m\u001b[0m\u001b[0m\n\u001b[1;32m      4\u001b[0m \u001b[0;34m\u001b[0m\u001b[0m\n\u001b[0;32m----> 5\u001b[0;31m     \u001b[0;32mif\u001b[0m \u001b[0mmin\u001b[0m\u001b[0;34m(\u001b[0m\u001b[0mdi\u001b[0m\u001b[0;34m/\u001b[0m\u001b[0mdj\u001b[0m\u001b[0;34m,\u001b[0m \u001b[0mdj\u001b[0m\u001b[0;34m/\u001b[0m\u001b[0mdi\u001b[0m\u001b[0;34m)\u001b[0m \u001b[0;34m>\u001b[0m \u001b[0ms\u001b[0m\u001b[0;34m:\u001b[0m\u001b[0;34m\u001b[0m\u001b[0m\n\u001b[0m\u001b[1;32m      6\u001b[0m         \u001b[0;32mreturn\u001b[0m \u001b[0;32mTrue\u001b[0m\u001b[0;34m\u001b[0m\u001b[0m\n\u001b[1;32m      7\u001b[0m \u001b[0;34m\u001b[0m\u001b[0m\n",
      "\u001b[0;31mZeroDivisionError\u001b[0m: float division by zero"
     ]
    }
   ],
   "source": [
    "test(1, df, lvq2).plot.line(x=0, y=1)"
   ]
  },
  {
   "cell_type": "code",
   "execution_count": 18,
   "metadata": {},
   "outputs": [],
   "source": [
    "def lvq3(trainBase, numPrototypes):\n",
    "    prot = selectRandomPrototypes(numPrototypes, trainBase)\n",
    "    prot.columns = trainBase.columns\n",
    "    \n",
    "    for i in range(len(trainBase)):\n",
    "#         r = random.randint(0, len(trainBase)-1)\n",
    "        x = trainBase.iloc[i]\n",
    "        \n",
    "        oneNN = NearestNeighbors(n_neighbors=2)\n",
    "        oneNN.fit(prot.drop(columns=['defects']).values)\n",
    "    \n",
    "        distances, indices = oneNN.kneighbors(x.values[:len(x)-1].reshape(1, -1))\n",
    "        nearestProt = prot.iloc[indices[0][0]]\n",
    "        secNearestProt = prot.iloc[indices[0][1]]\n",
    "        s = (1 - 10)/(1 + 10)\n",
    "        if inRange(nearestProt, secNearestProt, x, s): \n",
    "            if nearestProt.defects != secNearestProt.defects:\n",
    "                if nearestProt.defects != x.defects:\n",
    "                    # get more distant\n",
    "                    nearestProt = nearestProt.drop(labels=['defects']) + alpha(i) * (x.drop(labels=['defects']) - nearestProt.drop(labels=['defects']))\n",
    "                    secNearestProt = secNearestProt.drop(labels=['defects']) - alpha(i) * (x.drop(labels=['defects']) - secNearestProt.drop(labels=['defects']))\n",
    "                else:\n",
    "                    # get closer\n",
    "                    nearestProt = nearestProt.drop(labels=['defects']) - alpha(i) * (x.drop(labels=['defects']) - nearestProt.drop(labels=['defects']))\n",
    "                    secNearestProt = secNearestProt.drop(labels=['defects']) + alpha(i) * (x.drop(labels=['defects']) - secNearestProt.drop(labels=['defects']))\n",
    "            elif nearestProt.defects == secNearestProt.defects and secNearestProt.defects == x.defects:\n",
    "                nearestProt = nearestProt.drop(labels=['defects']) + alpha(i) * (x.drop(labels=['defects']) - nearestProt.drop(labels=['defects']))\n",
    "                secNearestProt = secNearestProt.drop(labels=['defects']) + alpha(i) * (x.drop(labels=['defects']) - secNearestProt.drop(labels=['defects']))\n",
    "                \n",
    "        nearestProt['defects'] = prot.iloc[indices[0][0]].defects\n",
    "        secNearestProt['defects'] = prot.iloc[indices[0][1]].defects\n",
    "        \n",
    "        prot.iloc[indices[0][0]] = nearestProt\n",
    "        prot.iloc[indices[0][1]] = secNearestProt\n",
    "            \n",
    "    return prot"
   ]
  },
  {
   "cell_type": "code",
   "execution_count": 19,
   "metadata": {},
   "outputs": [
    {
     "name": "stderr",
     "output_type": "stream",
     "text": [
      "/Users/joaofilipemoura/anaconda3/lib/python3.6/site-packages/ipykernel_launcher.py:30: SettingWithCopyWarning: \n",
      "A value is trying to be set on a copy of a slice from a DataFrame\n",
      "\n",
      "See the caveats in the documentation: http://pandas.pydata.org/pandas-docs/stable/indexing.html#indexing-view-versus-copy\n",
      "/Users/joaofilipemoura/anaconda3/lib/python3.6/site-packages/ipykernel_launcher.py:31: SettingWithCopyWarning: \n",
      "A value is trying to be set on a copy of a slice from a DataFrame\n",
      "\n",
      "See the caveats in the documentation: http://pandas.pydata.org/pandas-docs/stable/indexing.html#indexing-view-versus-copy\n"
     ]
    },
    {
     "data": {
      "text/plain": [
       "<matplotlib.axes._subplots.AxesSubplot at 0x1a21dd68d0>"
      ]
     },
     "execution_count": 19,
     "metadata": {},
     "output_type": "execute_result"
    },
    {
     "data": {
      "image/png": "[encoded data removed]",
      "text/plain": [
       "<Figure size 432x288 with 1 Axes>"
      ]
     },
     "metadata": {},
     "output_type": "display_data"
    }
   ],
   "source": [
    "test(1, df, lvq3).plot.line(x=0, y=1)"
   ]
  },
  {
   "cell_type": "code",
   "execution_count": 22,
   "metadata": {},
   "outputs": [
    {
     "name": "stderr",
     "output_type": "stream",
     "text": [
      "/Users/joaofilipemoura/anaconda3/lib/python3.6/site-packages/ipykernel_launcher.py:30: SettingWithCopyWarning: \n",
      "A value is trying to be set on a copy of a slice from a DataFrame\n",
      "\n",
      "See the caveats in the documentation: http://pandas.pydata.org/pandas-docs/stable/indexing.html#indexing-view-versus-copy\n",
      "/Users/joaofilipemoura/anaconda3/lib/python3.6/site-packages/ipykernel_launcher.py:31: SettingWithCopyWarning: \n",
      "A value is trying to be set on a copy of a slice from a DataFrame\n",
      "\n",
      "See the caveats in the documentation: http://pandas.pydata.org/pandas-docs/stable/indexing.html#indexing-view-versus-copy\n"
     ]
    },
    {
     "data": {
      "text/plain": [
       "<matplotlib.axes._subplots.AxesSubplot at 0x1a21df7fd0>"
      ]
     },
     "execution_count": 22,
     "metadata": {},
     "output_type": "execute_result"
    },
    {
     "data": {
      "image/png": "[encoded data removed]",
      "text/plain": [
       "<Figure size 432x288 with 1 Axes>"
      ]
     },
     "metadata": {},
     "output_type": "display_data"
    }
   ],
   "source": [
    "test(3, df, lvq3).plot.line(x=0, y=1)"
   ]
  },
  {
   "cell_type": "code",
   "execution_count": null,
   "metadata": {},
   "outputs": [],
   "source": []
  }
 ],
 "metadata": {
  "kernelspec": {
   "display_name": "Python 3",
   "language": "python",
   "name": "python3"
  },
  "language_info": {
   "codemirror_mode": {
    "name": "ipython",
    "version": 3
   },
   "file_extension": ".py",
   "mimetype": "text/x-python",
   "name": "python",
   "nbconvert_exporter": "python",
   "pygments_lexer": "ipython3",
   "version": "3.6.5"
  }
 },
 "nbformat": 4,
 "nbformat_minor": 2
}
